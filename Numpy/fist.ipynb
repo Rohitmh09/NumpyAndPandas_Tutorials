{
 "cells": [
  {
   "cell_type": "markdown",
   "metadata": {},
   "source": [
    "Jay Shree Ram***"
   ]
  },
  {
   "cell_type": "code",
   "execution_count": 6,
   "metadata": {},
   "outputs": [
    {
     "name": "stdout",
     "output_type": "stream",
     "text": [
      "Jay Shree Ram\n"
     ]
    }
   ],
   "source": [
    "print(\"Jay Shree Ram\")"
   ]
  },
  {
   "cell_type": "code",
   "execution_count": 13,
   "metadata": {},
   "outputs": [],
   "source": [
    "import numpy as np"
   ]
  },
  {
   "cell_type": "code",
   "execution_count": 23,
   "metadata": {},
   "outputs": [
    {
     "name": "stdout",
     "output_type": "stream",
     "text": [
      "2D Array:\n",
      "[[1 2 3 4 5]\n",
      " [3 4 4 5 6]\n",
      " [5 6 7 8 9]]\n",
      "size =  15\n",
      "shape = (3, 5)\n",
      "transepose = [[1 3 5]\n",
      " [2 4 6]\n",
      " [3 4 7]\n",
      " [4 5 8]\n",
      " [5 6 9]]\n",
      "flatten= [1 2 3 4 5 3 4 4 5 6 5 6 7 8 9]\n",
      "raval= [1 2 3 4 5 3 4 4 5 6 5 6 7 8 9]\n"
     ]
    }
   ],
   "source": [
    "print(\"2D Array:\")\n",
    "\n",
    "arr2D = np.array([[1,2,3,4,5],[3,4,4,5,6],[5,6,7,8,9]])\n",
    "print(arr2D)\n",
    "print(\"size = \",arr2D.size)\n",
    "print(\"shape =\",arr2D.shape)\n",
    "print(\"transepose =\",arr2D.transpose())\n",
    "print(\"flatten=\",arr2D.flatten())\n",
    "print(\"raval=\",arr2D.ravel())\n"
   ]
  },
  {
   "cell_type": "markdown",
   "metadata": {},
   "source": [
    "-- *ravel():* Below is ravel which is faster than flatten and which is not create copy of original array if you make chanegs in ravel it reflect in original array also <br>\n",
    "--*flatten():*Below is flatten which store copy of original array and it consumes memory for that also it is slower that ravel and if you make changes in flatten array not reflect in original array"
   ]
  },
  {
   "cell_type": "code",
   "execution_count": 24,
   "metadata": {},
   "outputs": [
    {
     "name": "stdout",
     "output_type": "stream",
     "text": [
      "Original array= [[45  2  3]\n",
      " [ 1  2  4]]\n",
      "flatten array= [55  2  3  1  2  4]\n",
      "ravel array= [45  2  3  1  2  4]\n"
     ]
    }
   ],
   "source": [
    "arr = np.array([[1,2,3],[1,2,4]])\n",
    "\n",
    "flatten = arr.flatten()\n",
    "ravel = arr.ravel()\n",
    "\n",
    "ravel[0]=45\n",
    "flatten[0]=55\n",
    "\n",
    "print(\"Original array=\",arr)\n",
    "print(\"flatten array=\",flatten)\n",
    "print(\"ravel array=\",ravel)"
   ]
  }
 ],
 "metadata": {
  "kernelspec": {
   "display_name": "Python 3",
   "language": "python",
   "name": "python3"
  },
  "language_info": {
   "codemirror_mode": {
    "name": "ipython",
    "version": 3
   },
   "file_extension": ".py",
   "mimetype": "text/x-python",
   "name": "python",
   "nbconvert_exporter": "python",
   "pygments_lexer": "ipython3",
   "version": "3.13.0"
  }
 },
 "nbformat": 4,
 "nbformat_minor": 2
}
